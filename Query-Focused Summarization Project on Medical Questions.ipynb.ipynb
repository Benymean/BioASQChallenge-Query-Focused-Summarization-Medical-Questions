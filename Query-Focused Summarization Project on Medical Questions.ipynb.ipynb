{
 "cells": [
  {
   "cell_type": "markdown",
   "metadata": {
    "id": "S9pWsPAt0dCh"
   },
   "source": [
    "# BioASQ challenge: Query-Focused Summarization Project on Medical Questions"
   ]
  },
  {
   "cell_type": "markdown",
   "metadata": {},
   "source": [
    "## Objectives\n",
    "\n",
    "Working on a task of query-focused summarization using a dataset derived from the **BioASQ challenge** (http://www.bioasq.org/), focusing on medical questions and relevant answers extracted from medical publications.\n",
    "Developing an understanding of the data, which consisted of medical questions paired with sentences labeled based on their relevance to the questions.\n",
    "Implementing deep neural networks to accurately identify sentences from the list that effectively answered the medical questions."
   ]
  },
  {
   "cell_type": "code",
   "execution_count": null,
   "metadata": {},
   "outputs": [],
   "source": [
    "!unzip data.zip"
   ]
  },
  {
   "cell_type": "code",
   "execution_count": 2,
   "metadata": {},
   "outputs": [
    {
     "data": {
      "text/html": [
       "<div>\n",
       "<style scoped>\n",
       "    .dataframe tbody tr th:only-of-type {\n",
       "        vertical-align: middle;\n",
       "    }\n",
       "\n",
       "    .dataframe tbody tr th {\n",
       "        vertical-align: top;\n",
       "    }\n",
       "\n",
       "    .dataframe thead th {\n",
       "        text-align: right;\n",
       "    }\n",
       "</style>\n",
       "<table border=\"1\" class=\"dataframe\">\n",
       "  <thead>\n",
       "    <tr style=\"text-align: right;\">\n",
       "      <th></th>\n",
       "      <th>qid</th>\n",
       "      <th>sentid</th>\n",
       "      <th>question</th>\n",
       "      <th>sentence text</th>\n",
       "      <th>label</th>\n",
       "    </tr>\n",
       "  </thead>\n",
       "  <tbody>\n",
       "    <tr>\n",
       "      <th>0</th>\n",
       "      <td>0</td>\n",
       "      <td>0</td>\n",
       "      <td>Is Hirschsprung disease a mendelian or a multi...</td>\n",
       "      <td>Hirschsprung disease (HSCR) is a multifactoria...</td>\n",
       "      <td>0</td>\n",
       "    </tr>\n",
       "    <tr>\n",
       "      <th>1</th>\n",
       "      <td>0</td>\n",
       "      <td>1</td>\n",
       "      <td>Is Hirschsprung disease a mendelian or a multi...</td>\n",
       "      <td>In this study, we review the identification of...</td>\n",
       "      <td>1</td>\n",
       "    </tr>\n",
       "    <tr>\n",
       "      <th>2</th>\n",
       "      <td>0</td>\n",
       "      <td>2</td>\n",
       "      <td>Is Hirschsprung disease a mendelian or a multi...</td>\n",
       "      <td>The majority of the identified genes are relat...</td>\n",
       "      <td>1</td>\n",
       "    </tr>\n",
       "    <tr>\n",
       "      <th>3</th>\n",
       "      <td>0</td>\n",
       "      <td>3</td>\n",
       "      <td>Is Hirschsprung disease a mendelian or a multi...</td>\n",
       "      <td>The non-Mendelian inheritance of sporadic non-...</td>\n",
       "      <td>1</td>\n",
       "    </tr>\n",
       "    <tr>\n",
       "      <th>4</th>\n",
       "      <td>0</td>\n",
       "      <td>4</td>\n",
       "      <td>Is Hirschsprung disease a mendelian or a multi...</td>\n",
       "      <td>Coding sequence mutations in e.g.</td>\n",
       "      <td>0</td>\n",
       "    </tr>\n",
       "  </tbody>\n",
       "</table>\n",
       "</div>"
      ],
      "text/plain": [
       "   qid  sentid                                           question  \\\n",
       "0    0       0  Is Hirschsprung disease a mendelian or a multi...   \n",
       "1    0       1  Is Hirschsprung disease a mendelian or a multi...   \n",
       "2    0       2  Is Hirschsprung disease a mendelian or a multi...   \n",
       "3    0       3  Is Hirschsprung disease a mendelian or a multi...   \n",
       "4    0       4  Is Hirschsprung disease a mendelian or a multi...   \n",
       "\n",
       "                                       sentence text  label  \n",
       "0  Hirschsprung disease (HSCR) is a multifactoria...      0  \n",
       "1  In this study, we review the identification of...      1  \n",
       "2  The majority of the identified genes are relat...      1  \n",
       "3  The non-Mendelian inheritance of sporadic non-...      1  \n",
       "4                  Coding sequence mutations in e.g.      0  "
      ]
     },
     "execution_count": 2,
     "metadata": {},
     "output_type": "execute_result"
    }
   ],
   "source": [
    "import pandas as pd\n",
    "dataset = pd.read_csv(\"bioasq10b_labelled.csv\")\n",
    "dataset.head()"
   ]
  },
  {
   "cell_type": "markdown",
   "metadata": {},
   "source": [
    "The columns of the CSV file are:\n",
    "\n",
    "* `qid`: an ID for a question. Several rows may have the same question ID, as we can see above.\n",
    "* `sentid`: an ID for a sentence.\n",
    "* `question`: The text of the question. In the above example, the first rows all have the same question: \"Is Hirschsprung disease a mendelian or a multifactorial disorder?\"\n",
    "* `sentence text`: The text of the sentence.\n",
    "* `label`: 1 if the sentence is a part of the answer, 0 if the sentence is not part of the answer."
   ]
  },
  {
   "cell_type": "markdown",
   "metadata": {},
   "source": [
    "\n",
    "### 1. Part of Speech Statistics Analysis\n",
    "\n",
    "Developed a function, `stats_pos`, to analyze and report the normalized frequency of part of speech tags in medical questions and answers using NLTK's Universal tag set.\n",
    "- Designed the process to handle data uniquely by concatenating all questions and answers separately, ensuring accurate linguistic analysis.\n",
    "- Employed NLTK libraries for sentence and word tokenization, and used NLTK's part of speech tagging to compare linguistic features between questions and answers.\n"
   ]
  },
  {
   "cell_type": "markdown",
   "metadata": {},
   "source": [
    "#### PoS Tag Differences:\n",
    "\n",
    "- Noun Use: Both questions and answers lean heavily on nouns, which makes sense because they're often talking about specifics .\n",
    "\n",
    "- Verb Use: Questions are more packed with verbs than answers\n",
    "\n",
    "- Punctuation and Particles: There are more punctuation in answers. I think this is due to listing them out in more details.\n",
    "\n",
    "- Adjectives (ADJ): Answers use adjectives more than questions do. This mostly due to the nature of answers which tend to be more descriptive.\n",
    "\n",
    "- Adverbs (ADV) and Conjunctions (CONJ): More adverbs and conjunctions come up in answers. This probably means answers are connecting thoughts and add depth to the explanations.\n",
    "\n",
    "- Determiners (DET) and Pronouns (PRON): Questions often grab onto determiners and pronouns.\n",
    "\n",
    "- Numerals (NUM): Answers include more numerals than questions, due to their role in providing quantified information"
   ]
  },
  {
   "cell_type": "markdown",
   "metadata": {},
   "source": [
    "### 2. N-gram Frequency Analysis\n",
    "\n",
    "Created a function `stats_top_stem_ngrams` to identify and report the top N most frequent n-grams of word stems for medical questions and answers, focusing on their normalized frequency using NLTK's tools.\n",
    "- Implemented unique data handling strategies by concatenating distinct questions and answers for comprehensive n-gram analysis.\n",
    "- Utilized NLTK's tokenization and Porter Stemmer for accurate stem extraction, ensuring n-grams were correctly identified within the boundaries of individual sentences.\n",
    "- Analyzed and compared linguistic patterns between questions and answers, enhancing understanding of commonalities in medical query language."
   ]
  },
  {
   "cell_type": "markdown",
   "metadata": {},
   "source": [
    "-  Shared Bigrams: Both questions and answers use bigrams ('of', 'the') and ('in', 'the') I think both questions and answers deal with descriptions or specifications involving locations or possessions\n",
    "\n",
    "- Question-Specific Bigrams: bigrams ('what', 'is') and ('are', 'the'), coming up mostly in questions. Makes sense, as questions \"What is this?\" or \"Are these the facts?\" are common.\"\n",
    "\n",
    "- Answer-Specific Bigrams: Answers use (',', 'and') and (')', ','), which points to them often isting stuff or explaining details.\n"
   ]
  },
  {
   "cell_type": "markdown",
   "metadata": {},
   "source": [
    "### 3. Named Entity Recognition Analysis\n",
    "Developed the function `stats_ne` to compute and report the normalized frequency of named entity types in medical questions and answers using spaCy's en_core_web_sm model.\n",
    "- Ensured consistent analysis across different datasets by adhering strictly to spaCy's default entity types.\n",
    "- Provided insights into the distribution of named entities, aiding in the understanding of key information components in medical text queries and responses.\n",
    "ol. "
   ]
  },
  {
   "cell_type": "markdown",
   "metadata": {},
   "source": [
    "### 4. TF-IDF Similarity Analysis Project\n",
    "\n",
    "Implemented the `stats_tfidf` function to determine the ratio of questions whose most similar sentence, based on tf-idf cosine similarity, is actually part of the answer set.\n",
    "- Configured and utilized Scikit-learn's TfidfVectorizer with English stop words removal to analyze text data, optimizing the identification of relevant text features.\n",
    "- Analyzed and refined models by fitting the vectorizer on unique datasets comprising both questions and their respective answers, enhancing accuracy in similarity assessments.\n"
   ]
  }
 ],
 "metadata": {
  "accelerator": "GPU",
  "colab": {
   "name": "A2_solution.ipynb",
   "provenance": []
  },
  "interpreter": {
   "hash": "a7b63e7410c98f344f02082f10d790581d1dba1eeb1c8fe30f342f6109f0429e"
  },
  "kernelspec": {
   "display_name": "Python 3",
   "language": "python",
   "name": "python3"
  },
  "language_info": {
   "codemirror_mode": {
    "name": "ipython",
    "version": 3
   },
   "file_extension": ".py",
   "mimetype": "text/x-python",
   "name": "python",
   "nbconvert_exporter": "python",
   "pygments_lexer": "ipython3",
   "version": "3.9.10"
  }
 },
 "nbformat": 4,
 "nbformat_minor": 1
}
